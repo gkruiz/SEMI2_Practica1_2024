{
 "cells": [
  {
   "cell_type": "code",
   "execution_count": 107,
   "id": "17bffd63-4d11-46a5-96c1-1c02810c3dee",
   "metadata": {},
   "outputs": [
    {
     "data": {
      "text/plain": [
       "True"
      ]
     },
     "execution_count": 107,
     "metadata": {},
     "output_type": "execute_result"
    }
   ],
   "source": [
    "import mysql.connector\n",
    "import os\n",
    "import pandas as pd\n",
    "import bd as base\n",
    "import copy\n",
    "import matplotlib.pyplot as plt\n",
    "\n",
    "from dotenv import load_dotenv\n",
    "\n",
    "\n",
    "load_dotenv()"
   ]
  },
  {
   "cell_type": "code",
   "execution_count": 108,
   "id": "083f0ddb-d6fb-4ebd-bedd-29cbbee1974a",
   "metadata": {},
   "outputs": [
    {
     "name": "stdout",
     "output_type": "stream",
     "text": [
      "Informacion Obtenida\n",
      "3632\n"
     ]
    }
   ],
   "source": [
    "conexion2 = base.DB\n",
    "conexion2.start()\n",
    "\n",
    "sql = 'SELECT * FROM get_valores;'\n",
    "\n",
    "lista = []\n",
    " \n",
    "val = conexion2.query(sql,lista)\n",
    "print(\"Informacion Obtenida\")\n",
    "print(len(val))\n",
    "\n",
    "conexion2.save()\n",
    "conexion2.fin()\n"
   ]
  },
  {
   "cell_type": "code",
   "execution_count": 109,
   "id": "cd8f75e9-0c0f-4280-aa04-b0a44ae04db5",
   "metadata": {},
   "outputs": [
    {
     "name": "stdout",
     "output_type": "stream",
     "text": [
      "3632\n"
     ]
    }
   ],
   "source": [
    "df = pd.DataFrame(val)\n",
    "print(df.shape[0])\n",
    "\n",
    "\n",
    "df = df.rename(columns={0 :'fecha'})\n",
    "df = df.rename(columns={1 :'region'})\n",
    "df = df.rename(columns={2 :'nuevos_casos'})\n",
    "df = df.rename(columns={3 :'acumulado_casos'})\n",
    "df = df.rename(columns={4 :'nuevas_muertes'})\n",
    "df = df.rename(columns={5 :'acumulado_muertes'})\n",
    "df = df.rename(columns={6 :'departamento'})\n",
    "df = df.rename(columns={7 :'municipio'})\n",
    "df = df.rename(columns={8 :'poblacion'})\n",
    "df = df.rename(columns={9 :'valor'})\n"
   ]
  },
  {
   "cell_type": "code",
   "execution_count": 34,
   "id": "59b30674-4b51-4592-beee-4f6eb1e53054",
   "metadata": {},
   "outputs": [
    {
     "name": "stdout",
     "output_type": "stream",
     "text": [
      "3573\n"
     ]
    }
   ],
   "source": [
    "#CANTIDAD DE NUEVAS MUERTES\n",
    "\n",
    "dc=copy.deepcopy(df)\n",
    "f1 = dc[(dc['nuevas_muertes'] != 0) ]\n",
    "print(f1.shape[0])\n",
    "\n"
   ]
  },
  {
   "cell_type": "code",
   "execution_count": 50,
   "id": "0a8dc7e3-56de-4b95-ad12-94bfdbdb976d",
   "metadata": {},
   "outputs": [
    {
     "name": "stdout",
     "output_type": "stream",
     "text": [
      "3629\n"
     ]
    }
   ],
   "source": [
    "#CANTIDAD DE MUERTES ACUMULADAS\n",
    "\n",
    "dc=copy.deepcopy(df)\n",
    "f1 = dc[(dc['acumulado_muertes'] != 0) ]\n",
    "print(f1.shape[0])"
   ]
  },
  {
   "cell_type": "code",
   "execution_count": 49,
   "id": "023cd162-616f-4bf4-8096-fd17f6b1aca5",
   "metadata": {},
   "outputs": [
    {
     "name": "stdout",
     "output_type": "stream",
     "text": [
      "299\n"
     ]
    }
   ],
   "source": [
    "#CANTIDAD DE POBLACION MUNICIPIOS\n",
    "\n",
    "dc=copy.deepcopy(df)\n",
    "dc = dc.drop(columns=[\n",
    "    'fecha',\n",
    "    'region',\n",
    "    'nuevos_casos',\n",
    "    'acumulado_casos',\n",
    "    'nuevas_muertes',\n",
    "    'acumulado_muertes',\n",
    "    'valor'\n",
    "    ], axis=1)\n",
    "\n",
    "#print(dc.iloc[3631])\n",
    "f1 = dc.drop_duplicates(subset=['departamento', 'municipio', 'poblacion'])\n",
    "\n",
    "f2 = f1[(f1['poblacion'] > 0) ]\n",
    "print(f2.shape[0])\n",
    "\n"
   ]
  },
  {
   "cell_type": "code",
   "execution_count": 75,
   "id": "49274cfc-dd43-40a2-baf6-b73581345b75",
   "metadata": {},
   "outputs": [
    {
     "name": "stdout",
     "output_type": "stream",
     "text": [
      "23.830954380072768\n"
     ]
    }
   ],
   "source": [
    "#PROMEDIO ESTANDAR DE NUEVAS MUERTES\n",
    "\n",
    "dc=copy.deepcopy(df)\n",
    "f1 = dc[(dc['nuevas_muertes'] != 0) ]\n",
    "f2 = f1[['nuevas_muertes']]\n",
    "f3 = f2['nuevas_muertes'].mean() \n",
    "\n",
    "print(f3)"
   ]
  },
  {
   "cell_type": "code",
   "execution_count": 77,
   "id": "2d6b96f8-c857-41a6-bca9-1483b6ea7f7e",
   "metadata": {},
   "outputs": [
    {
     "name": "stdout",
     "output_type": "stream",
     "text": [
      "2284.0093689721684\n"
     ]
    }
   ],
   "source": [
    "#PROMEDIO DE MUERTES ACUMULADAS\n",
    "\n",
    "dc=copy.deepcopy(df)\n",
    "f1 = dc[(dc['acumulado_muertes'] != 0) ]\n",
    "f2 = f1[['acumulado_muertes']]\n",
    "f3 = f2['acumulado_muertes'].mean() \n",
    "\n",
    "print(f3)"
   ]
  },
  {
   "cell_type": "code",
   "execution_count": 76,
   "id": "5c22c0c4-fb6a-407a-9bba-bc23607513da",
   "metadata": {},
   "outputs": [
    {
     "name": "stdout",
     "output_type": "stream",
     "text": [
      "53972.79933110368\n"
     ]
    }
   ],
   "source": [
    "#PROMEDIO DE POBLACION MUNICIPIOS\n",
    "\n",
    "dc=copy.deepcopy(df)\n",
    "dc = dc.drop(columns=[\n",
    "    'fecha',\n",
    "    'region',\n",
    "    'nuevos_casos',\n",
    "    'acumulado_casos',\n",
    "    'nuevas_muertes',\n",
    "    'acumulado_muertes',\n",
    "    'valor'\n",
    "    ], axis=1)\n",
    "\n",
    "#print(dc.iloc[3631])\n",
    "f1 = dc.drop_duplicates(subset=['departamento', 'municipio', 'poblacion'])\n",
    "f2 = f1[(f1['poblacion'] > 0) ]\n",
    "f3 = f2[['poblacion']]\n",
    "f4 = f3['poblacion'].mean() \n",
    "\n",
    "print(f4)\n"
   ]
  },
  {
   "cell_type": "code",
   "execution_count": 55,
   "id": "0f098992-46a3-4a9b-b93b-75ca436baf82",
   "metadata": {},
   "outputs": [
    {
     "name": "stdout",
     "output_type": "stream",
     "text": [
      "14.492322333556437\n"
     ]
    }
   ],
   "source": [
    "#DESVIACION ESTANDAR DE NUEVAS MUERTES\n",
    "\n",
    "dc=copy.deepcopy(df)\n",
    "f1 = dc[(dc['nuevas_muertes'] != 0) ]\n",
    "f2 = f1[['nuevas_muertes']]\n",
    "f3 = f2['nuevas_muertes'].std() \n",
    "\n",
    "print(f3)\n",
    "\n"
   ]
  },
  {
   "cell_type": "code",
   "execution_count": 57,
   "id": "110c14f1-3b24-4aa6-bd26-b2a321f409c2",
   "metadata": {},
   "outputs": [
    {
     "name": "stdout",
     "output_type": "stream",
     "text": [
      "1324.4691953027082\n"
     ]
    }
   ],
   "source": [
    "#DESVIACION DE MUERTES ACUMULADAS\n",
    "\n",
    "dc=copy.deepcopy(df)\n",
    "f1 = dc[(dc['acumulado_muertes'] != 0) ]\n",
    "f2 = f1[['acumulado_muertes']]\n",
    "f3 = f2['acumulado_muertes'].std() \n",
    "\n",
    "print(f3)\n"
   ]
  },
  {
   "cell_type": "code",
   "execution_count": 71,
   "id": "ad565a5d-c794-4e8f-8d3c-269fc5056e48",
   "metadata": {},
   "outputs": [
    {
     "name": "stdout",
     "output_type": "stream",
     "text": [
      "85674.20576832576\n"
     ]
    }
   ],
   "source": [
    "#DESVIACION DE POBLACION MUNICIPIOS\n",
    "\n",
    "dc=copy.deepcopy(df)\n",
    "dc = dc.drop(columns=[\n",
    "    'fecha',\n",
    "    'region',\n",
    "    'nuevos_casos',\n",
    "    'acumulado_casos',\n",
    "    'nuevas_muertes',\n",
    "    'acumulado_muertes',\n",
    "    'valor'\n",
    "    ], axis=1)\n",
    "\n",
    "#print(dc.iloc[3631])\n",
    "f1 = dc.drop_duplicates(subset=['departamento', 'municipio', 'poblacion'])\n",
    "f2 = f1[(f1['poblacion'] > 0) ]\n",
    "f3 = f2[['poblacion']]\n",
    "f4 = f3['poblacion'].std() \n",
    "\n",
    "print(f4)\n"
   ]
  },
  {
   "cell_type": "code",
   "execution_count": 72,
   "id": "a3a5871a-e37b-4de7-ba22-040353b116b0",
   "metadata": {},
   "outputs": [
    {
     "name": "stdout",
     "output_type": "stream",
     "text": [
      "1\n"
     ]
    }
   ],
   "source": [
    "#MINIMO DE NUEVAS MUERTES\n",
    "\n",
    "dc=copy.deepcopy(df)\n",
    "f1 = dc[(dc['nuevas_muertes'] != 0) ]\n",
    "f2 = f1[['nuevas_muertes']]\n",
    "f3 = f2['nuevas_muertes'].min() \n",
    "\n",
    "print(f3)\n",
    "\n"
   ]
  },
  {
   "cell_type": "code",
   "execution_count": 73,
   "id": "3113461f-6801-424d-9bc0-e0693a158cb4",
   "metadata": {},
   "outputs": [
    {
     "name": "stdout",
     "output_type": "stream",
     "text": [
      "1\n"
     ]
    }
   ],
   "source": [
    "#MINIMO DE MUERTES ACUMULADAS\n",
    "\n",
    "dc=copy.deepcopy(df)\n",
    "f1 = dc[(dc['acumulado_muertes'] != 0) ]\n",
    "f2 = f1[['acumulado_muertes']]\n",
    "f3 = f2['acumulado_muertes'].min() \n",
    "\n",
    "print(f3)\n"
   ]
  },
  {
   "cell_type": "code",
   "execution_count": 74,
   "id": "127472cd-0247-4138-8dd8-cc275a2e82e4",
   "metadata": {},
   "outputs": [
    {
     "name": "stdout",
     "output_type": "stream",
     "text": [
      "2563\n"
     ]
    }
   ],
   "source": [
    "#MINIMO DE POBLACION MUNICIPIOS\n",
    "\n",
    "dc=copy.deepcopy(df)\n",
    "dc = dc.drop(columns=[\n",
    "    'fecha',\n",
    "    'region',\n",
    "    'nuevos_casos',\n",
    "    'acumulado_casos',\n",
    "    'nuevas_muertes',\n",
    "    'acumulado_muertes',\n",
    "    'valor'\n",
    "    ], axis=1)\n",
    "\n",
    "#print(dc.iloc[3631])\n",
    "f1 = dc.drop_duplicates(subset=['departamento', 'municipio', 'poblacion'])\n",
    "f2 = f1[(f1['poblacion'] > 0) ]\n",
    "f3 = f2[['poblacion']]\n",
    "f4 = f3['poblacion'].min() \n",
    "\n",
    "print(f4)"
   ]
  },
  {
   "cell_type": "code",
   "execution_count": 78,
   "id": "2039e6d3-d477-4a49-a977-0d55d37ab9f2",
   "metadata": {},
   "outputs": [
    {
     "name": "stdout",
     "output_type": "stream",
     "text": [
      "61\n"
     ]
    }
   ],
   "source": [
    "#MAXIMO DE NUEVAS MUERTES\n",
    "\n",
    "dc=copy.deepcopy(df)\n",
    "f1 = dc[(dc['nuevas_muertes'] != 0) ]\n",
    "f2 = f1[['nuevas_muertes']]\n",
    "f3 = f2['nuevas_muertes'].max() \n",
    "\n",
    "print(f3)\n"
   ]
  },
  {
   "cell_type": "code",
   "execution_count": 79,
   "id": "051b6766-21f3-4112-9085-3ea30e08e5a8",
   "metadata": {},
   "outputs": [
    {
     "name": "stdout",
     "output_type": "stream",
     "text": [
      "4803\n"
     ]
    }
   ],
   "source": [
    "#MAXIMO DE MUERTES ACUMULADAS\n",
    "\n",
    "dc=copy.deepcopy(df)\n",
    "f1 = dc[(dc['acumulado_muertes'] != 0) ]\n",
    "f2 = f1[['acumulado_muertes']]\n",
    "f3 = f2['acumulado_muertes'].max() \n",
    "\n",
    "print(f3)"
   ]
  },
  {
   "cell_type": "code",
   "execution_count": 80,
   "id": "fb2222cc-20c2-4a38-ae94-11ba79699494",
   "metadata": {},
   "outputs": [
    {
     "name": "stdout",
     "output_type": "stream",
     "text": [
      "1205668\n"
     ]
    }
   ],
   "source": [
    "#MAXIMO DE POBLACION MUNICIPIOS\n",
    "\n",
    "dc=copy.deepcopy(df)\n",
    "dc = dc.drop(columns=[\n",
    "    'fecha',\n",
    "    'region',\n",
    "    'nuevos_casos',\n",
    "    'acumulado_casos',\n",
    "    'nuevas_muertes',\n",
    "    'acumulado_muertes',\n",
    "    'valor'\n",
    "    ], axis=1)\n",
    "\n",
    "#print(dc.iloc[3631])\n",
    "f1 = dc.drop_duplicates(subset=['departamento', 'municipio', 'poblacion'])\n",
    "f2 = f1[(f1['poblacion'] > 0) ]\n",
    "f3 = f2[['poblacion']]\n",
    "f4 = f3['poblacion'].max() \n",
    "\n",
    "print(f4)"
   ]
  },
  {
   "cell_type": "code",
   "execution_count": 132,
   "id": "0c8a6bea-98a2-4773-8f0b-8319196c72b7",
   "metadata": {},
   "outputs": [
    {
     "data": {
      "image/png": "[encoded data removed]",
      "text/plain": [
       "<Figure size 640x480 with 1 Axes>"
      ]
     },
     "metadata": {},
     "output_type": "display_data"
    },
    {
     "name": "stdout",
     "output_type": "stream",
     "text": [
      "0.25    12.0\n",
      "0.50    21.0\n",
      "0.75    34.0\n",
      "Name: nuevas_muertes, dtype: float64\n"
     ]
    }
   ],
   "source": [
    "#CUARTILES DE NUEVAS MUERTES\n",
    "\n",
    "dc=copy.deepcopy(df)\n",
    "f1 = dc[(dc['nuevas_muertes'] != 0) ]\n",
    "f2 = f1[['nuevas_muertes']]\n",
    "f3 = f2['nuevas_muertes'].quantile([0.25, 0.5, 0.75])\n",
    "\n",
    "plt.hist(f2['nuevas_muertes'])\n",
    "\n",
    "# Agregar líneas de cuartiles\n",
    "for quartile in f3:\n",
    "    plt.axvline(quartile, color='red', linestyle='--')\n",
    "\n",
    "plt.title('Histograma de Nuevas Muertes con Cuartiles')\n",
    "plt.xlabel('Nuevas Muertes')\n",
    "plt.ylabel('Cantidad')\n",
    "plt.show()\n",
    "\n",
    "print(f3)\n"
   ]
  },
  {
   "cell_type": "code",
   "execution_count": 130,
   "id": "c0b8d753-45c4-4fec-870e-297f48e1421b",
   "metadata": {},
   "outputs": [
    {
     "data": {
      "image/png": "[encoded data removed]",
      "text/plain": [
       "<Figure size 640x480 with 1 Axes>"
      ]
     },
     "metadata": {},
     "output_type": "display_data"
    },
    {
     "name": "stdout",
     "output_type": "stream",
     "text": [
      "0.25    1139.0\n",
      "0.50    2389.0\n",
      "0.75    3302.0\n",
      "Name: acumulado_muertes, dtype: float64\n"
     ]
    }
   ],
   "source": [
    "#CUARTILES DE MUERTES ACUMULADAS\n",
    "\n",
    "dc=copy.deepcopy(df)\n",
    "f1 = dc[(dc['acumulado_muertes'] != 0) ]\n",
    "f2 = f1[['acumulado_muertes']]\n",
    "f3 = f2['acumulado_muertes'].quantile([0.25, 0.5, 0.75])\n",
    "\n",
    "plt.hist(f2['acumulado_muertes'])\n",
    "\n",
    "# Agregar líneas de cuartiles\n",
    "for quartile in f3:\n",
    "    plt.axvline(quartile, color='red', linestyle='--')\n",
    "\n",
    "plt.title('Histograma de Acumulado Muertes con Cuartiles')\n",
    "plt.xlabel('Acumulado Muertes')\n",
    "plt.ylabel('Cantidad')\n",
    "plt.show()\n",
    "\n",
    "print(f3)"
   ]
  },
  {
   "cell_type": "code",
   "execution_count": 128,
   "id": "85d1b417-7a12-433d-806c-88bb27370a1a",
   "metadata": {},
   "outputs": [
    {
     "data": {
      "image/png": "[encoded data removed]",
      "text/plain": [
       "<Figure size 640x480 with 1 Axes>"
      ]
     },
     "metadata": {},
     "output_type": "display_data"
    },
    {
     "name": "stdout",
     "output_type": "stream",
     "text": [
      "      poblacion\n",
      "0         54623\n",
      "6         28445\n",
      "20      1205668\n",
      "26        70118\n",
      "31        54588\n",
      "...         ...\n",
      "3162      23166\n",
      "3163     104861\n",
      "3184      10646\n",
      "3474       2563\n",
      "3589      25332\n",
      "\n",
      "[299 rows x 1 columns]\n"
     ]
    }
   ],
   "source": [
    "#CUARTILES DE POBLACION MUNICIPIOS\n",
    "\n",
    "dc=copy.deepcopy(df)\n",
    "dc = dc.drop(columns=[\n",
    "    'fecha',\n",
    "    'region',\n",
    "    'nuevos_casos',\n",
    "    'acumulado_casos',\n",
    "    'nuevas_muertes',\n",
    "    'acumulado_muertes',\n",
    "    'valor'\n",
    "    ], axis=1)\n",
    "\n",
    "#print(dc.iloc[3631])\n",
    "f1 = dc.drop_duplicates(subset=['departamento', 'municipio', 'poblacion'])\n",
    "f2 = f1[(f1['poblacion'] > 0) ]\n",
    "f3 = f2[['poblacion']]\n",
    "f4 = f3['poblacion'].quantile([0.25, 0.5, 0.75])\n",
    "\n",
    "plt.hist(f3['poblacion'])\n",
    "\n",
    "# Agregar líneas de cuartiles\n",
    "for quartile in f4:\n",
    "    plt.axvline(quartile, color='red', linestyle='--')\n",
    "\n",
    "plt.title('Histograma de Poblacion con Cuartiles')\n",
    "plt.xlabel('Poblacion')\n",
    "plt.ylabel('Cantidad')\n",
    "plt.show()\n",
    "\n",
    "print(f3)"
   ]
  },
  {
   "cell_type": "code",
   "execution_count": 88,
   "id": "7e4e155a-0039-4ce8-a80d-8e01f563b1ef",
   "metadata": {},
   "outputs": [
    {
     "name": "stdout",
     "output_type": "stream",
     "text": [
      "columna1     1.581139\n",
      "columna2    15.811388\n",
      "dtype: float64\n"
     ]
    }
   ],
   "source": [
    "import pandas as pd\n",
    "\n",
    "# Crear un DataFrame de ejemplo\n",
    "data = {'columna1': [1, 2, 3, 4, 5],\n",
    "        'columna2': [10, 20, 30, 40, 50]}\n",
    "df = pd.DataFrame(data)\n",
    "\n",
    "# Calcular la desviación estándar por columna\n",
    "desviacion_estandar = df.std()\n",
    "print(desviacion_estandar)"
   ]
  },
  {
   "cell_type": "code",
   "execution_count": 17,
   "id": "a45dcfd7-fdae-43f9-89bf-799b95e5ee1e",
   "metadata": {},
   "outputs": [
    {
     "name": "stdout",
     "output_type": "stream",
     "text": [
      "[[0.17013139 0.61854727 0.64800316]\n",
      " [0.43233072 0.64949453 0.42971764]\n",
      " [0.74279989 0.34735568 0.63222505]]\n"
     ]
    },
    {
     "data": {
      "image/png": "[encoded data removed]",
      "text/plain": [
       "<Figure size 640x480 with 2 Axes>"
      ]
     },
     "metadata": {},
     "output_type": "display_data"
    }
   ],
   "source": [
    "import numpy as np\n",
    "import seaborn as sns\n",
    "import matplotlib.pyplot as plt\n",
    "\n",
    "# Crear una matriz de 3x3 con valores aleatorios\n",
    "data = np.random.rand(3, 3)\n",
    "print(data)\n",
    "# Crear el mapa de calor\n",
    "sns.heatmap(data, annot=True, fmt=\".2f\", cmap=\"coolwarm\")\n",
    "plt.title(\"Mapa de Calor 3x3\")\n",
    "plt.show()"
   ]
  },
  {
   "cell_type": "code",
   "execution_count": 101,
   "id": "fb0d0394-cffe-471e-8db8-ffd6f7936369",
   "metadata": {},
   "outputs": [
    {
     "data": {
      "image/png": "[encoded data removed]",
      "text/plain": [
       "<Figure size 640x480 with 1 Axes>"
      ]
     },
     "metadata": {},
     "output_type": "display_data"
    }
   ],
   "source": [
    "import pandas as pd\n",
    "import matplotlib.pyplot as plt\n",
    "\n",
    "# Crear DataFrame\n",
    "data = {'edades': [25, 30, 28, 35, 40, 42, 32, 29, 31, 27]}\n",
    "df = pd.DataFrame(data)\n",
    "\n",
    "# Calcular cuartiles\n",
    "cuartiles = df['edades'].quantile([0.25, 0.5, 0.75])\n",
    "\n",
    "# Crear histograma\n",
    "plt.hist(df['edades'])\n",
    "\n",
    "# Agregar líneas de cuartiles\n",
    "for quartile in cuartiles:\n",
    "    plt.axvline(quartile, color='red', linestyle='--')\n",
    "\n",
    "plt.title('Histograma de Edades con Cuartiles')\n",
    "plt.xlabel('Edades')\n",
    "plt.ylabel('Frecuencia')\n",
    "plt.show()"
   ]
  },
  {
   "cell_type": "code",
   "execution_count": null,
   "id": "9f5aa041-5fc5-4361-b39e-0c7ff57481c1",
   "metadata": {},
   "outputs": [],
   "source": []
  }
 ],
 "metadata": {
  "kernelspec": {
   "display_name": "Python 3 (ipykernel)",
   "language": "python",
   "name": "python3"
  },
  "language_info": {
   "codemirror_mode": {
    "name": "ipython",
    "version": 3
   },
   "file_extension": ".py",
   "mimetype": "text/x-python",
   "name": "python",
   "nbconvert_exporter": "python",
   "pygments_lexer": "ipython3",
   "version": "3.8.10"
  }
 },
 "nbformat": 4,
 "nbformat_minor": 5
}
